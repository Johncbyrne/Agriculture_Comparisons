{
 "cells": [
  {
   "cell_type": "code",
   "execution_count": null,
   "metadata": {},
   "outputs": [],
   "source": [
    "# importing packages\n",
    "import pandas as pd\n",
    "import numpy as np\n",
    "import seaborn as sns\n",
    "import datetime as dt\n",
    "from cmath import sqrt\n",
    "import warnings\n",
    "import matplotlib.pyplot as plt\n",
    "warnings.filterwarnings('ignore')"
   ]
  },
  {
   "cell_type": "markdown",
   "metadata": {},
   "source": [
    "# IRELAND"
   ]
  },
  {
   "cell_type": "code",
   "execution_count": null,
   "metadata": {},
   "outputs": [],
   "source": [
    "irelandagri_consumer = pd.read_csv('ireland/FAOSTAT_data_5-1-2022.csv')\n",
    "irelandagri_consumer.head()"
   ]
  },
  {
   "cell_type": "code",
   "execution_count": null,
   "metadata": {},
   "outputs": [],
   "source": [
    "irelandagri_consumer.tail()"
   ]
  },
  {
   "cell_type": "code",
   "execution_count": null,
   "metadata": {},
   "outputs": [],
   "source": [
    "irelandagri_consumer.describe()"
   ]
  },
  {
   "cell_type": "code",
   "execution_count": null,
   "metadata": {},
   "outputs": [],
   "source": [
    "irelandagri_consumer.info()"
   ]
  },
  {
   "cell_type": "code",
   "execution_count": null,
   "metadata": {},
   "outputs": [],
   "source": [
    "irelandagri_consumer.shape"
   ]
  },
  {
   "cell_type": "code",
   "execution_count": null,
   "metadata": {},
   "outputs": [],
   "source": [
    "irelandagri_crops = pd.read_csv('ireland/FAOSTAT_data_5-1-2022 (2).csv')\n",
    "irelandagri_crops.head()"
   ]
  },
  {
   "cell_type": "code",
   "execution_count": null,
   "metadata": {},
   "outputs": [],
   "source": [
    "irelandagri_crops.tail()"
   ]
  },
  {
   "cell_type": "code",
   "execution_count": null,
   "metadata": {},
   "outputs": [],
   "source": [
    "irelandagri_crops.describe()"
   ]
  },
  {
   "cell_type": "code",
   "execution_count": null,
   "metadata": {},
   "outputs": [],
   "source": [
    "irelandagri_crops.info()"
   ]
  },
  {
   "cell_type": "code",
   "execution_count": null,
   "metadata": {},
   "outputs": [],
   "source": [
    "irelandagri_crops.shape"
   ]
  },
  {
   "cell_type": "markdown",
   "metadata": {
    "slideshow": {
     "slide_type": "slide"
    }
   },
   "source": [
    "#Now that the duplicates are gone we are going to merge using an inner join\n",
    "#The base data set is co2 so with the inner join if hter where more countries in the other they will appear the same.\n",
    "# Dataframe of world regions new dataframe for merge\n",
    "#NB CO2 is the left dataframe\n",
    "#so merging df_gm without the duplicates notice where using small country because we are joining on the co2 country column\n",
    "#Anything that does not exist in the 1st table Co2 is discarded from the second table inner join\n",
    "\n"
   ]
  },
  {
   "cell_type": "code",
   "execution_count": null,
   "metadata": {},
   "outputs": [],
   "source": [
    "df_irelandagri_consumer = irelandagri_consumer[['Year','Value','Months']].drop_duplicates()"
   ]
  },
  {
   "cell_type": "code",
   "execution_count": null,
   "metadata": {},
   "outputs": [],
   "source": [
    " irishdata = pd.merge(irelandagri_crops,df_irelandagri_consumer,left_on=\"Year\",right_on=\"Year\", how =\"inner\")"
   ]
  },
  {
   "cell_type": "code",
   "execution_count": null,
   "metadata": {},
   "outputs": [],
   "source": [
    "irishdata.head()"
   ]
  },
  {
   "cell_type": "code",
   "execution_count": null,
   "metadata": {},
   "outputs": [],
   "source": [
    "irishdata.tail()"
   ]
  },
  {
   "cell_type": "code",
   "execution_count": null,
   "metadata": {},
   "outputs": [],
   "source": [
    "irishdata.shape"
   ]
  },
  {
   "cell_type": "code",
   "execution_count": null,
   "metadata": {},
   "outputs": [],
   "source": [
    "irishdata.describe()"
   ]
  },
  {
   "cell_type": "code",
   "execution_count": null,
   "metadata": {},
   "outputs": [],
   "source": [
    "irishdata.info()"
   ]
  },
  {
   "cell_type": "code",
   "execution_count": null,
   "metadata": {},
   "outputs": [],
   "source": [
    "#dropping the large Country feature no need for 2 of the same and we will keep the lowercase one\n",
    "#irishdata= irishdata.drop(\"Note\",\"Flag\",\"Area_x\",\"Area_y\")\n",
    "#irishdata.drop(['Note','Flag','Area_y','Domain Code','Year Code','Area Code','Item Code','Months Code'], axis=1, inplace=True)"
   ]
  },
  {
   "cell_type": "code",
   "execution_count": null,
   "metadata": {},
   "outputs": [],
   "source": [
    "#change all year type to ints to ensure there are no strings for the years greater than 2009 and this covers the years for this data 2010 to 2020\n",
    "#The second 3rd line we we ensure that year is ints again sometimes after sorting or merging they can turn into strings\n",
    "\n",
    "df_irishdata = irishdata[irishdata['Year'].astype('int64') > 2009]\n",
    "df_irishdata = df_irishdata.sort_values(by=['Area', 'Year'])\n",
    "df_irishdata['Year'] = df_irishdata['Year'].astype('int64')\n",
    "df_irishdata.head()"
   ]
  },
  {
   "cell_type": "code",
   "execution_count": null,
   "metadata": {},
   "outputs": [],
   "source": [
    "df_irishdata.shape"
   ]
  },
  {
   "cell_type": "code",
   "execution_count": null,
   "metadata": {},
   "outputs": [],
   "source": [
    "#Rename our columns to be more descriptive names for some and ensure all of the uppercase ones are \n",
    "#lowercase to keep in line with naming conventions\n",
    "df_irishdata = df_irishdata.rename(columns={'Domain':'crops_domain',\n",
    "                       'Year':'year',\n",
    "                       'Item':'crops_type',\n",
    "                       'Value_x':'crop_value',\n",
    "                       'Element':'crops_action',\n",
    "                       'Unit':'crop_measurement',\n",
    "                       'Area':'country',\n",
    "                       'Months':'months',\n",
    "                       'Value_y':'consumer_value'})"
   ]
  },
  {
   "cell_type": "code",
   "execution_count": null,
   "metadata": {
    "scrolled": true
   },
   "outputs": [],
   "source": [
    "df_irishdata.head()"
   ]
  },
  {
   "cell_type": "code",
   "execution_count": null,
   "metadata": {},
   "outputs": [],
   "source": [
    "#Reorder Columns\n",
    "\n",
    "irishcolumns = [\"year\",\"country\",\"months\",\"crop_measurement\",\"crops_type\",\"crops_action\",\"crop_value\",\"consumer_value\"]\n",
    "df_irishdata = df_irishdata.reindex(columns = irishcolumns)"
   ]
  },
  {
   "cell_type": "markdown",
   "metadata": {},
   "source": [
    "# Missing Data"
   ]
  },
  {
   "cell_type": "code",
   "execution_count": null,
   "metadata": {},
   "outputs": [],
   "source": [
    "# check all columns for NAN values if any\n",
    "\n",
    "df_irishdata.isna().any()"
   ]
  },
  {
   "cell_type": "code",
   "execution_count": null,
   "metadata": {},
   "outputs": [],
   "source": [
    "# check the sum of null records\n",
    "\n",
    "df_irishdata.isnull().sum()\n"
   ]
  },
  {
   "cell_type": "code",
   "execution_count": null,
   "metadata": {},
   "outputs": [],
   "source": [
    "#Checking dataframe for missing data\n",
    "%matplotlib inline\n",
    "plt.figure(figsize=(10, 5))\n",
    "colourmap = sns.cubehelix_palette(light=1, as_cmap=True, reverse=True)\n",
    "sns.heatmap(df_irishdata.isnull(), cmap=colourmap)"
   ]
  },
  {
   "cell_type": "code",
   "execution_count": null,
   "metadata": {},
   "outputs": [],
   "source": [
    "#To zoom in on the missing data\n",
    "missing_data = df_irishdata.iloc[:, 6:7]\n",
    "plt.figure(figsize=(20, 10))\n",
    "colourmap = sns.cubehelix_palette(light=1, as_cmap=True, reverse=True)\n",
    "sns.heatmap(missing_data.isnull(), cmap=colourmap)"
   ]
  },
  {
   "cell_type": "code",
   "execution_count": null,
   "metadata": {},
   "outputs": [],
   "source": [
    "import plotly.express as px\n",
    "fig = px.box(df_irishdata, y='consumer_value')\n",
    "fig.show()"
   ]
  },
  {
   "cell_type": "code",
   "execution_count": null,
   "metadata": {},
   "outputs": [],
   "source": [
    "import seaborn as sns\n",
    "#\n",
    "# Box plot\n",
    "#\n",
    "sns.boxplot(df_irishdata.crop_value)\n"
   ]
  },
  {
   "cell_type": "code",
   "execution_count": null,
   "metadata": {},
   "outputs": [],
   "source": [
    "#\n",
    "# Distribution plot\n",
    "#\n",
    "sns.distplot(df_irishdata.consumer_value)"
   ]
  },
  {
   "cell_type": "code",
   "execution_count": null,
   "metadata": {},
   "outputs": [],
   "source": [
    "#\n",
    "# Distribution plot\n",
    "#\n",
    "sns.distplot(df_irishdata.crop_value)"
   ]
  },
  {
   "cell_type": "code",
   "execution_count": null,
   "metadata": {
    "scrolled": false
   },
   "outputs": [],
   "source": [
    "##check rows where dependent variable is equal to zero\n",
    "df_irishdata.loc[df_irishdata['crop_value']==0]"
   ]
  },
  {
   "cell_type": "code",
   "execution_count": null,
   "metadata": {},
   "outputs": [],
   "source": [
    "#We can see for the crop value column there are over 11,268 rows with the value 0 I we want to find the mean value of the column\n",
    "print(df_irishdata['crop_value'].mean()) "
   ]
  },
  {
   "cell_type": "code",
   "execution_count": null,
   "metadata": {},
   "outputs": [],
   "source": [
    "#For all rows with zero for the column crop_value replace them with the average value listed above and below.\n",
    "df_irishdata['crop_value'] = df_irishdata['crop_value'].replace(0, 384548.5637279597) "
   ]
  },
  {
   "cell_type": "code",
   "execution_count": null,
   "metadata": {},
   "outputs": [],
   "source": [
    "#We have 5,184 rows for the column crop_value that are null I am going to replace them too with the mean average value for that feature\n",
    "# Replace NaNs in column crop_value with the\n",
    "# mean of values in the same column\n",
    "mean_value=df_irishdata['crop_value'].mean()\n",
    "df_irishdata['crop_value'].fillna(value=mean_value, inplace=True)\n",
    "print('Updated Dataframe:')\n",
    "print(df_irishdata)"
   ]
  },
  {
   "cell_type": "code",
   "execution_count": null,
   "metadata": {},
   "outputs": [],
   "source": [
    "# check the sum of null records again it should be 0 this time\n",
    "\n",
    "df_irishdata.isnull().sum()"
   ]
  },
  {
   "cell_type": "code",
   "execution_count": null,
   "metadata": {},
   "outputs": [],
   "source": [
    "plt.figure(figsize = (16,4))\n",
    "sns.boxplot(x= df_irishdata['crop_value'])\n",
    "plt.show()"
   ]
  },
  {
   "cell_type": "code",
   "execution_count": null,
   "metadata": {},
   "outputs": [],
   "source": [
    "plt.figure(figsize = (16,4))\n",
    "sns.boxplot(x= df_irishdata['consumer_value'])\n",
    "plt.show()"
   ]
  },
  {
   "cell_type": "code",
   "execution_count": null,
   "metadata": {},
   "outputs": [],
   "source": [
    "##check cardinality\n",
    "\n",
    "v_cardinality = df_irishdata.nunique()\n",
    "\n",
    "print(v_cardinality)"
   ]
  },
  {
   "cell_type": "code",
   "execution_count": null,
   "metadata": {},
   "outputs": [],
   "source": [
    "##plot cardinality using a barplot\n",
    "\n",
    "df_irishdata.nunique().plot.bar(figsize=(12,6))\n",
    "\n",
    "plt.ylabel('Number of unique categories')\n",
    "\n",
    "plt.xlabel('Variables')\n",
    "\n",
    "plt.title('Cardinality')"
   ]
  },
  {
   "cell_type": "code",
   "execution_count": null,
   "metadata": {},
   "outputs": [],
   "source": [
    "#checking the shape and size\n",
    "print(\"Shape of the dataset is : \",df_irishdata.shape)\n",
    "print(\"Size of the dataset is : \",df_irishdata.size)"
   ]
  },
  {
   "cell_type": "code",
   "execution_count": null,
   "metadata": {},
   "outputs": [],
   "source": [
    "#Box plot visualisation to depict the crop price from 2010 to 2020\n",
    "plt.figure(figsize = (16,4))\n",
    "sns.boxplot(y='crop_value', x='year',data=df_irishdata)\n",
    "plt.show()"
   ]
  },
  {
   "cell_type": "code",
   "execution_count": null,
   "metadata": {
    "scrolled": true
   },
   "outputs": [],
   "source": [
    "df_irishdata.head()"
   ]
  },
  {
   "cell_type": "code",
   "execution_count": null,
   "metadata": {},
   "outputs": [],
   "source": [
    "#create two arrays to compare coefficients\n",
    "consumervalue=np.array(df_irishdata[\"consumer_value\"])\n",
    "cropvalue=np.array(df_irishdata[\"crop_value\"])"
   ]
  },
  {
   "cell_type": "code",
   "execution_count": null,
   "metadata": {
    "scrolled": true
   },
   "outputs": [],
   "source": [
    "#how to work out coefficients between gdp and \n",
    "np.corrcoef (consumervalue, cropvalue)"
   ]
  },
  {
   "cell_type": "markdown",
   "metadata": {},
   "source": [
    "# The result tells us that there is a high correlation between consumer value and cropvalue "
   ]
  },
  {
   "cell_type": "markdown",
   "metadata": {},
   "source": [
    "Lets use a scatter plot to plot the results"
   ]
  },
  {
   "cell_type": "code",
   "execution_count": null,
   "metadata": {},
   "outputs": [],
   "source": [
    "import plotly.express as px"
   ]
  },
  {
   "cell_type": "code",
   "execution_count": null,
   "metadata": {},
   "outputs": [],
   "source": [
    "#Were creating two variables for our min and max values for the slider\n",
    "xmin,xmax=min(df_irishdata[\"crop_value\"]), max(df_irishdata[\"crop_value\"])\n",
    "ymin,ymax=min(df_irishdata[\"consumer_value\"]), max(df_irishdata[\"consumer_value\"])"
   ]
  },
  {
   "cell_type": "code",
   "execution_count": null,
   "metadata": {
    "scrolled": true
   },
   "outputs": [],
   "source": [
    "px.scatter(df_irishdata, x=\"crop_value\", y=\"consumer_value\",\n",
    "animation_frame=\"months\",\n",
    "size=\"year\", color=\"crops_type\", hover_name=\"country\",\n",
    "size_max = 50,\n",
    "range_x=[0.1, 50], range_y=[100,60000],\n",
    "log_x=True, log_y=True)\n",
    "fig.show()"
   ]
  },
  {
   "cell_type": "code",
   "execution_count": null,
   "metadata": {},
   "outputs": [],
   "source": [
    "import plotly.express as px"
   ]
  },
  {
   "cell_type": "code",
   "execution_count": null,
   "metadata": {},
   "outputs": [],
   "source": [
    "#Were creating two variables for our min and max values for the slider\n",
    "xmin,xmax=min(df_irishdata[\"year\"]), max(df_irishdata[\"year\"])\n",
    "ymin,ymax=min(df_irishdata[\"crop_value\"]), max(df_irishdata[\"crop_value\"])"
   ]
  },
  {
   "cell_type": "code",
   "execution_count": null,
   "metadata": {},
   "outputs": [],
   "source": [
    "#Using year as the animation frame, and as we go through each year the values will change want to group it by country\n",
    "#The color will be the region each region will have a different color, using hover for the country to give us info\n",
    "#Split up the regions by using facet hight 1580 in pixels, lots of large and small values in gdp so were going to use log\n",
    "#to be able to see all the values, we can do the same with y.  Size is used for size of points\n",
    "fig= px.scatter(df_irishdata, x=\"year\", y=\"crop_value\", animation_frame =\"year\",\n",
    "               animation_group=\"months\",color=\"crops_type\", hover_name=\"months\", \n",
    "               facet_col=\"crops_action\", width=1580, height=400, log_x=True, size_max=10000,\n",
    "               range_x=[xmin,xmax],range_y=[ymin,ymax])\n",
    "               "
   ]
  },
  {
   "cell_type": "code",
   "execution_count": null,
   "metadata": {
    "scrolled": false
   },
   "outputs": [],
   "source": [
    "fig.show()"
   ]
  },
  {
   "cell_type": "markdown",
   "metadata": {},
   "source": [
    "# Brazil"
   ]
  },
  {
   "cell_type": "code",
   "execution_count": null,
   "metadata": {},
   "outputs": [],
   "source": [
    "brazilagri_crops = pd.read_csv('brazil/FAOSTAT_brazil_5-1-2022(4).csv')\n",
    "brazilagri_crops.head()"
   ]
  },
  {
   "cell_type": "code",
   "execution_count": null,
   "metadata": {},
   "outputs": [],
   "source": [
    "brazilagri_crops.tail()"
   ]
  },
  {
   "cell_type": "code",
   "execution_count": null,
   "metadata": {},
   "outputs": [],
   "source": [
    "brazilagri_crops.describe()"
   ]
  },
  {
   "cell_type": "code",
   "execution_count": null,
   "metadata": {},
   "outputs": [],
   "source": [
    "brazilagri_crops.info()"
   ]
  },
  {
   "cell_type": "code",
   "execution_count": null,
   "metadata": {},
   "outputs": [],
   "source": [
    "brazilagri_crops.shape"
   ]
  },
  {
   "cell_type": "code",
   "execution_count": null,
   "metadata": {},
   "outputs": [],
   "source": [
    "brazilagri_consumer = pd.read_csv('brazil/FAOSTATbrazil_data_5-1-2022.csv')\n",
    "brazilagri_consumer.head()"
   ]
  },
  {
   "cell_type": "code",
   "execution_count": null,
   "metadata": {},
   "outputs": [],
   "source": [
    "brazilagri_consumer.tail()"
   ]
  },
  {
   "cell_type": "code",
   "execution_count": null,
   "metadata": {},
   "outputs": [],
   "source": [
    "brazilagri_consumer.describe()"
   ]
  },
  {
   "cell_type": "code",
   "execution_count": null,
   "metadata": {},
   "outputs": [],
   "source": [
    "brazilagri_consumer.info()"
   ]
  },
  {
   "cell_type": "code",
   "execution_count": null,
   "metadata": {},
   "outputs": [],
   "source": [
    "brazilagri_consumer.shape"
   ]
  },
  {
   "cell_type": "code",
   "execution_count": null,
   "metadata": {},
   "outputs": [],
   "source": [
    "df_brazilagri_consumer = brazilagri_consumer[['Year','Value','Months']].drop_duplicates()"
   ]
  },
  {
   "cell_type": "code",
   "execution_count": null,
   "metadata": {},
   "outputs": [],
   "source": [
    "brazildata = pd.merge(brazilagri_crops,df_brazilagri_consumer,left_on=\"Year\",right_on=\"Year\", how =\"inner\")"
   ]
  },
  {
   "cell_type": "code",
   "execution_count": null,
   "metadata": {},
   "outputs": [],
   "source": [
    "brazildata.head()"
   ]
  },
  {
   "cell_type": "code",
   "execution_count": null,
   "metadata": {},
   "outputs": [],
   "source": [
    "brazildata.tail()"
   ]
  },
  {
   "cell_type": "code",
   "execution_count": null,
   "metadata": {},
   "outputs": [],
   "source": [
    "brazildata.describe()"
   ]
  },
  {
   "cell_type": "code",
   "execution_count": null,
   "metadata": {},
   "outputs": [],
   "source": [
    "brazildata.info()"
   ]
  },
  {
   "cell_type": "code",
   "execution_count": null,
   "metadata": {},
   "outputs": [],
   "source": [
    "brazildata.shape"
   ]
  },
  {
   "cell_type": "code",
   "execution_count": null,
   "metadata": {},
   "outputs": [],
   "source": [
    "#change all year type to ints to ensure there are no strings for the years greater than 2009 and this covers the years for this data 2010 to 2020\n",
    "#The second 3rd line we we ensure that year is ints again sometimes after sorting or merging they can turn into strings\n",
    "\n",
    "df_brazildata = brazildata[brazildata['Year'].astype('int64') > 2009]\n",
    "df_brazildata = df_brazildata.sort_values(by=['Area', 'Year'])\n",
    "df_brazildata['Year'] = df_brazildata['Year'].astype('int64')\n",
    "df_brazildata.head()"
   ]
  },
  {
   "cell_type": "code",
   "execution_count": null,
   "metadata": {},
   "outputs": [],
   "source": [
    "#dropping the large Country feature no need for 2 of the same and we will keep the lowercase one\n",
    "#irishdata= irishdata.drop(\"Note\",\"Flag\",\"Area_x\",\"Area_y\")\n",
    "#brazildata.drop(['Note','Flag','Area_x','Area_y','Domain Code','Year Code','Area Code','Item Code','Months Code','Unit_x'], axis=1, inplace=True)"
   ]
  },
  {
   "cell_type": "code",
   "execution_count": null,
   "metadata": {},
   "outputs": [],
   "source": [
    "df_brazildata.shape"
   ]
  },
  {
   "cell_type": "code",
   "execution_count": null,
   "metadata": {},
   "outputs": [],
   "source": [
    "#Rename our columns to be more descriptive names for some and ensure all of the uppercase ones are \n",
    "#lowercase to keep in line with naming conventions\n",
    "df_brazildata = df_brazildata.rename(columns={'Domain':'crops_domain',\n",
    "                       'Year':'year',\n",
    "                       'Item':'crops_type',\n",
    "                       'Value_x':'crop_value',\n",
    "                       'Element':'crops_action',\n",
    "                       'Unit':'crop_measurement',\n",
    "                       'Area':'country',\n",
    "                       'Months':'months',\n",
    "                       'Value_y':'consumer_value'})"
   ]
  },
  {
   "cell_type": "code",
   "execution_count": null,
   "metadata": {},
   "outputs": [],
   "source": [
    "df_brazildata.head()"
   ]
  },
  {
   "cell_type": "code",
   "execution_count": null,
   "metadata": {},
   "outputs": [],
   "source": [
    "#Reorder Columns\n",
    "\n",
    "brazilcolumns = [\"year\",\"country\",\"months\",\"crop_measurement\",\"crops_type\",\"crops_action\",\"crop_value\",\"consumer_value\"]\n",
    "df_brazildata = df_brazildata.reindex(columns = brazilcolumns)"
   ]
  },
  {
   "cell_type": "markdown",
   "metadata": {},
   "source": [
    "# Missing Data"
   ]
  },
  {
   "cell_type": "code",
   "execution_count": null,
   "metadata": {},
   "outputs": [],
   "source": [
    "# check all columns for NAN values if any\n",
    "\n",
    "df_brazildata.isna().any()"
   ]
  },
  {
   "cell_type": "code",
   "execution_count": null,
   "metadata": {},
   "outputs": [],
   "source": [
    "# check the sum of null records\n",
    "df_brazildata.isnull().sum()"
   ]
  },
  {
   "cell_type": "code",
   "execution_count": null,
   "metadata": {},
   "outputs": [],
   "source": [
    "#Checking dataframe for missing data\n",
    "%matplotlib inline\n",
    "plt.figure(figsize=(10, 5))\n",
    "colourmap = sns.cubehelix_palette(light=1, as_cmap=True, reverse=True)\n",
    "sns.heatmap(df_brazildata.isnull(), cmap=colourmap)"
   ]
  },
  {
   "cell_type": "code",
   "execution_count": null,
   "metadata": {},
   "outputs": [],
   "source": [
    "#To zoom in on the missing data\n",
    "missing_data = df_brazildata.iloc[:, 6:7]\n",
    "plt.figure(figsize=(20, 10))\n",
    "colourmap = sns.cubehelix_palette(light=1, as_cmap=True, reverse=True)\n",
    "sns.heatmap(missing_data.isnull(), cmap=colourmap)"
   ]
  },
  {
   "cell_type": "code",
   "execution_count": null,
   "metadata": {},
   "outputs": [],
   "source": [
    "import plotly.express as px\n",
    "fig = px.box(df_brazildata, y='consumer_value')\n",
    "fig.show()"
   ]
  },
  {
   "cell_type": "code",
   "execution_count": null,
   "metadata": {},
   "outputs": [],
   "source": [
    "import seaborn as sns\n",
    "#\n",
    "# Box plot\n",
    "#\n",
    "sns.boxplot(df_brazildata.crop_value)"
   ]
  },
  {
   "cell_type": "code",
   "execution_count": null,
   "metadata": {
    "scrolled": true
   },
   "outputs": [],
   "source": [
    "sns.boxplot(x=df_brazildata['consumer_value'])"
   ]
  },
  {
   "cell_type": "code",
   "execution_count": null,
   "metadata": {},
   "outputs": [],
   "source": [
    "#\n",
    "# Distribution plot\n",
    "#\n",
    "sns.distplot(df_brazildata.crop_value)"
   ]
  },
  {
   "cell_type": "code",
   "execution_count": null,
   "metadata": {},
   "outputs": [],
   "source": [
    "##check rows where dependent variable is equal to zero\n",
    "df_brazildata.loc[df_brazildata['crop_value']==0]"
   ]
  },
  {
   "cell_type": "code",
   "execution_count": null,
   "metadata": {},
   "outputs": [],
   "source": [
    "#We can see for the crop value column there are over 612 rows with the value 0 I we want to find the mean value of the column\n",
    "print(df_brazildata['crop_value'].mean()) "
   ]
  },
  {
   "cell_type": "code",
   "execution_count": null,
   "metadata": {},
   "outputs": [],
   "source": [
    "#For all rows with zero for the column crop_value replace them with the average value listed above and below.\n",
    "df_brazildata['crop_value'] = df_brazildata['crop_value'].replace(0, 6041652.271239063) "
   ]
  },
  {
   "cell_type": "code",
   "execution_count": null,
   "metadata": {},
   "outputs": [],
   "source": [
    "#We have 2.376 rows for the column crop_value that are null I am going to replace them too with the mean average value for that feature\n",
    "# Replace NaNs in column crop_value with the\n",
    "# mean of values in the same column\n",
    "mean_value=df_brazildata['crop_value'].mean()\n",
    "df_brazildata['crop_value'].fillna(value=mean_value, inplace=True)\n",
    "print('Updated Dataframe:')\n",
    "print(df_brazildata)"
   ]
  },
  {
   "cell_type": "code",
   "execution_count": null,
   "metadata": {},
   "outputs": [],
   "source": [
    "# check the sum of null records again it should be 0 this time\n",
    "\n",
    "df_brazildata.isnull().sum()"
   ]
  },
  {
   "cell_type": "code",
   "execution_count": null,
   "metadata": {},
   "outputs": [],
   "source": [
    "plt.figure(figsize = (16,4))\n",
    "sns.boxplot(x= df_brazildata['crop_value'])\n",
    "plt.show()"
   ]
  },
  {
   "cell_type": "code",
   "execution_count": null,
   "metadata": {},
   "outputs": [],
   "source": [
    "##check cardinality\n",
    "\n",
    "v_cardinality = df_brazildata.nunique()\n",
    "\n",
    "print(v_cardinality)"
   ]
  },
  {
   "cell_type": "code",
   "execution_count": null,
   "metadata": {},
   "outputs": [],
   "source": [
    "##check cardinality\n",
    "v_cardinality = df_brazildata.nunique()\n",
    "print(v_cardinality)\n"
   ]
  },
  {
   "cell_type": "code",
   "execution_count": null,
   "metadata": {},
   "outputs": [],
   "source": [
    "##plot cardinality using a barplot\n",
    "\n",
    "df_brazildata.nunique().plot.bar(figsize=(12,6))\n",
    "\n",
    "plt.ylabel('Number of unique categories')\n",
    "\n",
    "plt.xlabel('Variables')\n",
    "\n",
    "plt.title('Cardinality')"
   ]
  },
  {
   "cell_type": "code",
   "execution_count": null,
   "metadata": {},
   "outputs": [],
   "source": [
    "#checking the shape and size\n",
    "print(\"Shape of the dataset is : \",df_brazildata.shape)\n",
    "print(\"Size of the dataset is : \",df_brazildata.size)"
   ]
  },
  {
   "cell_type": "code",
   "execution_count": null,
   "metadata": {},
   "outputs": [],
   "source": [
    "#Box plot visualisation to depict the crop price from 2010 to 2020\n",
    "plt.figure(figsize = (16,4))\n",
    "sns.boxplot(x='year', y='crop_value', data=df_brazildata)\n",
    "plt.show()"
   ]
  },
  {
   "cell_type": "code",
   "execution_count": null,
   "metadata": {},
   "outputs": [],
   "source": [
    "df_brazildata.head()"
   ]
  },
  {
   "cell_type": "code",
   "execution_count": null,
   "metadata": {},
   "outputs": [],
   "source": [
    "#create two arrays to compare coefficients\n",
    "consumervalue=np.array(df_brazildata[\"consumer_value\"])\n",
    "cropvalue=np.array(df_brazildata[\"crop_value\"])"
   ]
  },
  {
   "cell_type": "code",
   "execution_count": null,
   "metadata": {},
   "outputs": [],
   "source": [
    "#how to work out coefficients between gdp and \n",
    "np.corrcoef (consumervalue, cropvalue)"
   ]
  },
  {
   "cell_type": "markdown",
   "metadata": {},
   "source": [
    "# The result tells us that there is a high correlation between consumer value and cropvalue"
   ]
  },
  {
   "cell_type": "markdown",
   "metadata": {},
   "source": [
    "Below is a scatterplot to plot the results"
   ]
  },
  {
   "cell_type": "code",
   "execution_count": null,
   "metadata": {},
   "outputs": [],
   "source": [
    "import plotly.express as px"
   ]
  },
  {
   "cell_type": "code",
   "execution_count": null,
   "metadata": {},
   "outputs": [],
   "source": [
    "#Were creating two variables for our min and max values for the slider\n",
    "xmin,xmax=min(df_brazildata[\"crop_value\"]), max(df_brazildata[\"crop_value\"])\n",
    "ymin,ymax=min(df_brazildata[\"consumer_value\"]), max(df_brazildata[\"consumer_value\"])"
   ]
  },
  {
   "cell_type": "code",
   "execution_count": null,
   "metadata": {},
   "outputs": [],
   "source": [
    "px.scatter(df_brazildata, x=\"crop_value\", y=\"consumer_value\",\n",
    "animation_frame=\"year\",\n",
    "animation_group=\"country\", color=\"crops_type\", hover_name=\"country\",\n",
    "size_max = 50,\n",
    "range_x=[0.1, 50], range_y=[100,60000],\n",
    "log_x=True, log_y=True)\n",
    "fig.show()"
   ]
  },
  {
   "cell_type": "code",
   "execution_count": null,
   "metadata": {},
   "outputs": [],
   "source": [
    "import plotly.express as px"
   ]
  },
  {
   "cell_type": "code",
   "execution_count": null,
   "metadata": {},
   "outputs": [],
   "source": [
    "#Were creating two variables for our min and max values for the slider\n",
    "xmin,xmax=min(df_brazildata[\"crop_value\"]), max(df_brazildata[\"crop_value\"])\n",
    "ymin,ymax=min(df_brazildata[\"consumer_value\"]), max(df_brazildata[\"consumer_value\"])"
   ]
  },
  {
   "cell_type": "code",
   "execution_count": null,
   "metadata": {},
   "outputs": [],
   "source": [
    "#Using year as the animation frame, and as we go through each year the values will change want to group it by country\n",
    "#The color will be the region each region will have a different color, using hover for the country to give us info\n",
    "#Split up the regions by using facet hight 1580 in pixels, lots of large and small values in gdp so were going to use log\n",
    "#to be able to see all the values, we can do the same with y.  Size is used for size of points\n",
    "fig= px.scatter(df_brazildata, x=\"crop_value\", y=\"consumer_value\", animation_frame =\"year\",\n",
    "               animation_group=\"country\",color=\"crops_type\", hover_name=\"months\", \n",
    "               facet_col=\"months\", width=1580, height=400, log_x=True, size_max=45,\n",
    "               range_x=[xmin,xmax],range_y=[ymin,ymax])"
   ]
  },
  {
   "cell_type": "code",
   "execution_count": null,
   "metadata": {},
   "outputs": [],
   "source": [
    "fig.show()"
   ]
  },
  {
   "cell_type": "code",
   "execution_count": null,
   "metadata": {},
   "outputs": [],
   "source": [
    "df_brazildata.head()"
   ]
  },
  {
   "cell_type": "markdown",
   "metadata": {},
   "source": [
    "# EU"
   ]
  },
  {
   "cell_type": "code",
   "execution_count": null,
   "metadata": {},
   "outputs": [],
   "source": [
    "irelandagri_consumer = pd.read_csv('eu\\FAOSTAT_data_5-9-2022.csv')\n",
    "irelandagri_consumer.head()"
   ]
  },
  {
   "cell_type": "code",
   "execution_count": null,
   "metadata": {},
   "outputs": [],
   "source": [
    "irelandagri_consumer = pd.read_csv('eu\\FAOSTAT_data_5-9-2022(1).csv')\n",
    "irelandagri_consumer.head()"
   ]
  },
  {
   "cell_type": "code",
   "execution_count": null,
   "metadata": {},
   "outputs": [],
   "source": [
    "FAOSTAT_data_5-9-2022(1)"
   ]
  },
  {
   "cell_type": "code",
   "execution_count": null,
   "metadata": {},
   "outputs": [],
   "source": []
  },
  {
   "cell_type": "code",
   "execution_count": null,
   "metadata": {},
   "outputs": [],
   "source": []
  },
  {
   "cell_type": "code",
   "execution_count": null,
   "metadata": {},
   "outputs": [],
   "source": []
  },
  {
   "cell_type": "code",
   "execution_count": null,
   "metadata": {},
   "outputs": [],
   "source": []
  }
 ],
 "metadata": {
  "kernelspec": {
   "display_name": "Python 3",
   "language": "python",
   "name": "python3"
  },
  "language_info": {
   "codemirror_mode": {
    "name": "ipython",
    "version": 3
   },
   "file_extension": ".py",
   "mimetype": "text/x-python",
   "name": "python",
   "nbconvert_exporter": "python",
   "pygments_lexer": "ipython3",
   "version": "3.8.3"
  }
 },
 "nbformat": 4,
 "nbformat_minor": 4
}
